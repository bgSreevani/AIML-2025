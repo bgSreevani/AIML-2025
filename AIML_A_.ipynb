{
  "nbformat": 4,
  "nbformat_minor": 0,
  "metadata": {
    "colab": {
      "provenance": [],
      "authorship_tag": "ABX9TyPhymgoH3rGS47CyH1bFqQX",
      "include_colab_link": true
    },
    "kernelspec": {
      "name": "python3",
      "display_name": "Python 3"
    },
    "language_info": {
      "name": "python"
    }
  },
  "cells": [
    {
      "cell_type": "markdown",
      "metadata": {
        "id": "view-in-github",
        "colab_type": "text"
      },
      "source": [
        "<a href=\"https://colab.research.google.com/github/bgSreevani/AIML-2025/blob/main/AIML_A_.ipynb\" target=\"_parent\"><img src=\"https://colab.research.google.com/assets/colab-badge.svg\" alt=\"Open In Colab\"/></a>"
      ]
    },
    {
      "cell_type": "code",
      "execution_count": null,
      "metadata": {
        "id": "NaNdTmBxEZra"
      },
      "outputs": [],
      "source": [
        "from copy import deepcopy\n",
        "import numpy as np\n",
        "import time"
      ]
    },
    {
      "cell_type": "code",
      "source": [
        "def bestsolution(state):\n",
        "  bestsol = np.array([], int).reshape(-1,9)\n",
        "  count = len(state) - 1\n",
        "  while count != -1:\n",
        "    bestsol = np.insert(bestsol, 0, state[count]['puzzle'],0)\n",
        "    count = state[count]['parent']\n",
        "  return bestsol.reshape(-1,3,3)\n"
      ],
      "metadata": {
        "id": "WaZo7xSNE4QQ"
      },
      "execution_count": null,
      "outputs": []
    },
    {
      "cell_type": "code",
      "source": [
        "def all(checkarray):\n",
        "  set = []\n",
        "  for it in set:\n",
        "    for checkarray in it:\n",
        "      return 1\n",
        "    else:\n",
        "        return 0\n",
        "\n",
        "\n"
      ],
      "metadata": {
        "id": "r685yWHEF9J3"
      },
      "execution_count": null,
      "outputs": []
    },
    {
      "cell_type": "code",
      "source": [
        "def misplaced_tiles(puzzle,goal):\n",
        "  mscost = np.sum(puzzle !=goal) -1\n",
        "  return mscost if mscost > 0 else 0"
      ],
      "metadata": {
        "id": "el1_viJtHSrA"
      },
      "execution_count": null,
      "outputs": []
    },
    {
      "cell_type": "code",
      "source": [
        "def coordinates(puzzle):\n",
        "  pos = np.array(range(9))\n",
        "  for p,q in enumerate(puzzle):\n",
        "    pos[q] = p\n",
        "  return pos"
      ],
      "metadata": {
        "id": "F795PSJvH0EG"
      },
      "execution_count": null,
      "outputs": []
    },
    {
      "cell_type": "code",
      "source": [
        "def evaluvate_misplaced(puzzle,goal):\n",
        "  steps = np.array([\n",
        "      ('up',[0,1,2], -3),\n",
        "      ('down',[6,7,8], 3),\n",
        "      ('left',[0,3,6], -1),\n",
        "      ('right',[2,5,8], 1)\n",
        "      ],dtype=[('move',str, 1),('position',list),('head',int)])\n",
        "  dtstate = [('puzle',list),('parent',list),('head',int)]\n",
        "  costg = coordinates(goal)\n",
        "  parent = -1\n",
        "  gn = 0\n",
        "  hn = misplaced_tiles(coordinates(puzzle),costg)\n",
        "  state = np.array([puzzle,parent, gn, hn], dtstate)\n",
        "  dtpriority = [('position',int),('fn',int)]\n",
        "  priority = np.array([(0, hn)],dtpriority)\n",
        "  while True:\n",
        "    priority = np.sort(priority, kind='mergesort',order=['fn', 'position'])\n",
        "    position, fn = priority[0]\n",
        "    priority = np.delete(priority, 0, 0)\n",
        "    puzzle, parent, gn, hn = state[position]\n",
        "    puzzle = np.array(puzzle)\n",
        "    blank = Int(np.where(puzzle == 0)[0])\n",
        "    gn = gn + 1\n",
        "    c = 1\n",
        "    start_time = time.time()\n",
        "    for s in steps:\n",
        "      c = c + 1\n",
        "      if blank not in s['position']:\n",
        "        openstates = deepcopy(puzzle)\n",
        "        openstates[blank], openstates[blank + s['head']] = openstates[blank + s['head']], openstates[blank]\n",
        "        if not (np.all(list(state['puzzle']) == openstates, 1)).any():\n",
        "          end_time = time.time()\n",
        "          if (end_time . start_time) > 2:\n",
        "            print(\"The 8-puzzle is unsolvable\\n\")\n",
        "            break\n",
        "            hn = misplaced_tiles(openstates,costg)\n",
        "\n"
      ],
      "metadata": {
        "id": "eHg_eSBLIQd_"
      },
      "execution_count": null,
      "outputs": []
    },
    {
      "cell_type": "code",
      "source": [],
      "metadata": {
        "id": "uBgJz_OFKhlu"
      },
      "execution_count": null,
      "outputs": []
    }
  ]
}